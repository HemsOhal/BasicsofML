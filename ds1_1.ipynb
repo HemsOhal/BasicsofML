{
  "nbformat": 4,
  "nbformat_minor": 0,
  "metadata": {
    "colab": {
      "provenance": [],
      "authorship_tag": "ABX9TyNpNwp9aGdwMs5fINfL7LD2",
      "include_colab_link": true
    },
    "kernelspec": {
      "name": "python3",
      "display_name": "Python 3"
    },
    "language_info": {
      "name": "python"
    }
  },
  "cells": [
    {
      "cell_type": "markdown",
      "metadata": {
        "id": "view-in-github",
        "colab_type": "text"
      },
      "source": [
        "<a href=\"https://colab.research.google.com/github/HemsOhal/BasicsofML/blob/main/ds1_1.ipynb\" target=\"_parent\"><img src=\"https://colab.research.google.com/assets/colab-badge.svg\" alt=\"Open In Colab\"/></a>"
      ]
    },
    {
      "cell_type": "code",
      "execution_count": null,
      "metadata": {
        "id": "tz4Y8S1MuFDh"
      },
      "outputs": [],
      "source": [
        "import pandas as pd\n",
        "\n",
        "df1 = pd.DataFrame({'ID': [1, 2, 3],'Name': ['Alice', 'Bob', 'Charlie']})\n",
        "df2 = pd.DataFrame({'ID': [2, 3, 4],'Age':[20,35,45]})"
      ]
    },
    {
      "cell_type": "code",
      "source": [
        "print(df1.head())"
      ],
      "metadata": {
        "colab": {
          "base_uri": "https://localhost:8080/"
        },
        "id": "vodXihVcumYB",
        "outputId": "6f1ff7f8-3caf-4729-d896-6635be2f5b1e"
      },
      "execution_count": null,
      "outputs": [
        {
          "output_type": "stream",
          "name": "stdout",
          "text": [
            "   ID     Name\n",
            "0   1    Alice\n",
            "1   2      Bob\n",
            "2   3  Charlie\n"
          ]
        }
      ]
    },
    {
      "cell_type": "code",
      "source": [
        "print(df2.head())"
      ],
      "metadata": {
        "colab": {
          "base_uri": "https://localhost:8080/"
        },
        "id": "ATYf4vULup-6",
        "outputId": "0532a665-b4f7-4f71-fc73-99a2a4e5e45a"
      },
      "execution_count": null,
      "outputs": [
        {
          "output_type": "stream",
          "name": "stdout",
          "text": [
            "   ID  Age\n",
            "0   2   20\n",
            "1   3   35\n",
            "2   4   45\n"
          ]
        }
      ]
    },
    {
      "cell_type": "code",
      "source": [
        "print(df1.shape)\n",
        "print(df2.shape)\n"
      ],
      "metadata": {
        "colab": {
          "base_uri": "https://localhost:8080/"
        },
        "id": "HWMw-dzEutua",
        "outputId": "fe4ac7d5-c4b3-42e7-e749-e26c80d1b8a3"
      },
      "execution_count": null,
      "outputs": [
        {
          "output_type": "stream",
          "name": "stdout",
          "text": [
            "(3, 2)\n",
            "(3, 2)\n"
          ]
        }
      ]
    },
    {
      "cell_type": "code",
      "source": [
        "# Merge dataframes on 'ID'on inner join\n",
        "merged_df = pd.merge(df1, df2)\n",
        "print(\"Merged DataFrame (using merge):\")\n",
        "print(merged_df)"
      ],
      "metadata": {
        "id": "tmpjmUyC4Y6D",
        "outputId": "d778961d-aba1-4b26-cb25-e3e884bacc67",
        "colab": {
          "base_uri": "https://localhost:8080/"
        }
      },
      "execution_count": null,
      "outputs": [
        {
          "output_type": "stream",
          "name": "stdout",
          "text": [
            "Merged DataFrame (using merge):\n",
            "   ID     Name  Age\n",
            "0   2      Bob   20\n",
            "1   3  Charlie   35\n"
          ]
        }
      ]
    },
    {
      "cell_type": "code",
      "source": [
        "# Merge dataframes on 'ID'on outer join\n",
        "merged_df = pd.merge(df1, df2, on='ID', how='outer')\n",
        "print(\"Merged DataFrame (using merge):\")\n",
        "print(merged_df)"
      ],
      "metadata": {
        "colab": {
          "base_uri": "https://localhost:8080/"
        },
        "id": "HikELou-vC5g",
        "outputId": "c32b6eb1-8664-42d8-bbb3-61064698cf30"
      },
      "execution_count": null,
      "outputs": [
        {
          "output_type": "stream",
          "name": "stdout",
          "text": [
            "Merged DataFrame (using merge):\n",
            "   ID     Name   Age\n",
            "0   1    Alice   NaN\n",
            "1   2      Bob  20.0\n",
            "2   3  Charlie  35.0\n",
            "3   4      NaN  45.0\n"
          ]
        }
      ]
    },
    {
      "cell_type": "code",
      "source": [
        "# Merge dataframes on 'ID'on inner join\n",
        "merged_df = pd.merge(df1, df2, on='ID', how='inner')\n",
        "print(\"Merged DataFrame (using merge):\")\n",
        "print(merged_df)"
      ],
      "metadata": {
        "colab": {
          "base_uri": "https://localhost:8080/"
        },
        "id": "g8mGYxa74CIo",
        "outputId": "2641a739-6836-4bf0-9f2f-5bd24c15abe2"
      },
      "execution_count": null,
      "outputs": [
        {
          "output_type": "stream",
          "name": "stdout",
          "text": [
            "Merged DataFrame (using merge):\n",
            "   ID     Name  Age\n",
            "0   2      Bob   20\n",
            "1   3  Charlie   35\n"
          ]
        }
      ]
    },
    {
      "cell_type": "code",
      "source": [
        "# Concatenating the two dataframes along columns (axis=1)\n",
        "concat_df = pd.concat([df1, df2], axis=1)\n",
        "print(\"\\nConcatenated DataFrame (using concat):\")\n",
        "print(concat_df)"
      ],
      "metadata": {
        "colab": {
          "base_uri": "https://localhost:8080/"
        },
        "id": "b9dFpVzIvK2R",
        "outputId": "e7bc3666-e76c-4e82-9dae-db4304905bfb"
      },
      "execution_count": null,
      "outputs": [
        {
          "output_type": "stream",
          "name": "stdout",
          "text": [
            "\n",
            "Concatenated DataFrame (using concat):\n",
            "   ID     Name  ID  Age\n",
            "0   1    Alice   2   20\n",
            "1   2      Bob   3   35\n",
            "2   3  Charlie   4   45\n"
          ]
        }
      ]
    },
    {
      "cell_type": "code",
      "source": [
        "# Concatenating the two dataframes along rows (axis=0)\n",
        "concat_df = pd.concat([df1, df2], axis=0)\n",
        "print(\"\\nConcatenated DataFrame (using concat):\")\n",
        "print(concat_df)"
      ],
      "metadata": {
        "id": "Mp3LXaVYvM_5",
        "outputId": "13789718-3a0a-4903-b346-5c81e0103295",
        "colab": {
          "base_uri": "https://localhost:8080/"
        }
      },
      "execution_count": null,
      "outputs": [
        {
          "output_type": "stream",
          "name": "stdout",
          "text": [
            "\n",
            "Concatenated DataFrame (using concat):\n",
            "   ID     Name   Age\n",
            "0   1    Alice   NaN\n",
            "1   2      Bob   NaN\n",
            "2   3  Charlie   NaN\n",
            "0   2      NaN  20.0\n",
            "1   3      NaN  35.0\n",
            "2   4      NaN  45.0\n"
          ]
        }
      ]
    }
  ]
}